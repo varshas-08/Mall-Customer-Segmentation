{
 "cells": [
  {
   "cell_type": "markdown",
   "id": "9f16355d-8573-4c7d-85b9-da939444f46f",
   "metadata": {},
   "source": [
    "# <div align='center'>Data Cleaning for Clustering</div>"
   ]
  },
  {
   "cell_type": "markdown",
   "id": "ab43e817-a81f-473d-bb95-0b047f3d9828",
   "metadata": {},
   "source": [
    "**Loading files and libraries**"
   ]
  },
  {
   "cell_type": "code",
   "execution_count": 1,
   "id": "77024610-4eeb-4973-b8f3-889f92db2d14",
   "metadata": {},
   "outputs": [],
   "source": [
    "import pandas as pd\n",
    "import numpy as np\n",
    "from matplotlib import pyplot as plt\n",
    "import seaborn as sns\n",
    "%matplotlib inline\n",
    "import warnings\n",
    "warnings.filterwarnings('ignore')"
   ]
  },
  {
   "cell_type": "code",
   "execution_count": 2,
   "id": "e8ea5d06-c0ee-4728-97ce-79436e8160e7",
   "metadata": {},
   "outputs": [
    {
     "data": {
      "text/plain": [
       "(200, 5)"
      ]
     },
     "execution_count": 2,
     "metadata": {},
     "output_type": "execute_result"
    }
   ],
   "source": [
    "df = pd.read_csv(\"mall customers.csv\")\n",
    "df.shape"
   ]
  },
  {
   "cell_type": "code",
   "execution_count": 3,
   "id": "a6471bee-09ee-4813-8d7b-d1db47cbdfab",
   "metadata": {},
   "outputs": [
    {
     "data": {
      "text/html": [
       "<div>\n",
       "<style scoped>\n",
       "    .dataframe tbody tr th:only-of-type {\n",
       "        vertical-align: middle;\n",
       "    }\n",
       "\n",
       "    .dataframe tbody tr th {\n",
       "        vertical-align: top;\n",
       "    }\n",
       "\n",
       "    .dataframe thead th {\n",
       "        text-align: right;\n",
       "    }\n",
       "</style>\n",
       "<table border=\"1\" class=\"dataframe\">\n",
       "  <thead>\n",
       "    <tr style=\"text-align: right;\">\n",
       "      <th></th>\n",
       "      <th>CustomerID</th>\n",
       "      <th>Genre</th>\n",
       "      <th>Age</th>\n",
       "      <th>Annual Income (k$)</th>\n",
       "      <th>Spending Score (1-100)</th>\n",
       "    </tr>\n",
       "  </thead>\n",
       "  <tbody>\n",
       "    <tr>\n",
       "      <th>0</th>\n",
       "      <td>1</td>\n",
       "      <td>Male</td>\n",
       "      <td>19</td>\n",
       "      <td>15</td>\n",
       "      <td>39</td>\n",
       "    </tr>\n",
       "    <tr>\n",
       "      <th>1</th>\n",
       "      <td>2</td>\n",
       "      <td>Male</td>\n",
       "      <td>21</td>\n",
       "      <td>15</td>\n",
       "      <td>81</td>\n",
       "    </tr>\n",
       "    <tr>\n",
       "      <th>2</th>\n",
       "      <td>3</td>\n",
       "      <td>Female</td>\n",
       "      <td>20</td>\n",
       "      <td>16</td>\n",
       "      <td>6</td>\n",
       "    </tr>\n",
       "    <tr>\n",
       "      <th>3</th>\n",
       "      <td>4</td>\n",
       "      <td>Female</td>\n",
       "      <td>23</td>\n",
       "      <td>16</td>\n",
       "      <td>77</td>\n",
       "    </tr>\n",
       "    <tr>\n",
       "      <th>4</th>\n",
       "      <td>5</td>\n",
       "      <td>Female</td>\n",
       "      <td>31</td>\n",
       "      <td>17</td>\n",
       "      <td>40</td>\n",
       "    </tr>\n",
       "  </tbody>\n",
       "</table>\n",
       "</div>"
      ],
      "text/plain": [
       "   CustomerID   Genre  Age  Annual Income (k$)  Spending Score (1-100)\n",
       "0           1    Male   19                  15                      39\n",
       "1           2    Male   21                  15                      81\n",
       "2           3  Female   20                  16                       6\n",
       "3           4  Female   23                  16                      77\n",
       "4           5  Female   31                  17                      40"
      ]
     },
     "execution_count": 3,
     "metadata": {},
     "output_type": "execute_result"
    }
   ],
   "source": [
    "df.head()"
   ]
  },
  {
   "cell_type": "markdown",
   "id": "6e22a649-d596-41ff-8a56-3064821292ec",
   "metadata": {},
   "source": [
    "#### Preprocessing"
   ]
  },
  {
   "cell_type": "markdown",
   "id": "bae93a0b-ea31-442e-b9bc-8996628af155",
   "metadata": {},
   "source": [
    "**handeling Missing values**"
   ]
  },
  {
   "cell_type": "code",
   "execution_count": 4,
   "id": "08d39d13-bd9e-40f2-b715-ffd50ba4a848",
   "metadata": {},
   "outputs": [
    {
     "data": {
      "text/plain": [
       "CustomerID                0\n",
       "Genre                     0\n",
       "Age                       0\n",
       "Annual Income (k$)        0\n",
       "Spending Score (1-100)    0\n",
       "dtype: int64"
      ]
     },
     "execution_count": 4,
     "metadata": {},
     "output_type": "execute_result"
    }
   ],
   "source": [
    "#missing values\n",
    "df.isna().sum()"
   ]
  },
  {
   "cell_type": "markdown",
   "id": "facaedc7-06fd-498d-b9f9-4a11b65d45a8",
   "metadata": {},
   "source": [
    "*There are no missing value is our dataset*"
   ]
  },
  {
   "cell_type": "code",
   "execution_count": 5,
   "id": "d392ddb8-794b-4730-8804-b4c8b1ec5bfc",
   "metadata": {},
   "outputs": [],
   "source": [
    "#renaming columns for simplicity\n",
    "df = df.rename(columns={\"CustomerID\":\"id\",\"Genre\":\"gender\",\"Annual Income (k$)\":\"income\",\"Spending Score (1-100)\":\"score\",\"Age\":\"age\"})"
   ]
  },
  {
   "cell_type": "markdown",
   "id": "0d640970-b3be-4e99-91bc-36d269f14cdf",
   "metadata": {},
   "source": [
    "**Checking for duplicate rows**"
   ]
  },
  {
   "cell_type": "code",
   "execution_count": 6,
   "id": "ca614076-6c7e-480e-919f-08344db5a4c0",
   "metadata": {},
   "outputs": [
    {
     "data": {
      "text/plain": [
       "np.int64(0)"
      ]
     },
     "execution_count": 6,
     "metadata": {},
     "output_type": "execute_result"
    }
   ],
   "source": [
    "# identifying duplicated rows\n",
    "df.duplicated().sum()"
   ]
  },
  {
   "cell_type": "markdown",
   "id": "720f5bf6-eecd-48eb-b4fd-7c2ae3a91548",
   "metadata": {},
   "source": [
    "*Data is free of duplicates*"
   ]
  },
  {
   "cell_type": "markdown",
   "id": "45d36607-76fe-4924-a21b-f8b781970d42",
   "metadata": {},
   "source": [
    "**Data type of columns**"
   ]
  },
  {
   "cell_type": "code",
   "execution_count": 7,
   "id": "432c99dd-e975-4d86-aa5b-491cc4c60318",
   "metadata": {},
   "outputs": [
    {
     "data": {
      "text/plain": [
       "id         int64\n",
       "gender    object\n",
       "age        int64\n",
       "income     int64\n",
       "score      int64\n",
       "dtype: object"
      ]
     },
     "execution_count": 7,
     "metadata": {},
     "output_type": "execute_result"
    }
   ],
   "source": [
    "# data type\n",
    "df.dtypes"
   ]
  },
  {
   "cell_type": "markdown",
   "id": "62afcbfb-c876-4e2c-a5f4-4c8bd293646f",
   "metadata": {},
   "source": [
    "*All the columns are in the correct data type.*"
   ]
  },
  {
   "cell_type": "markdown",
   "id": "d3d7059e-9543-4ecf-ac19-4e503193c9b7",
   "metadata": {},
   "source": [
    "**Handeling Outliers**"
   ]
  },
  {
   "cell_type": "markdown",
   "id": "730d7809-de85-446b-b59b-82a37b27df76",
   "metadata": {},
   "source": [
    "For Categorical data"
   ]
  },
  {
   "cell_type": "code",
   "execution_count": 8,
   "id": "ecf8f8a7-85ac-4a79-8f34-ac850a896c86",
   "metadata": {},
   "outputs": [
    {
     "data": {
      "text/plain": [
       "array(['Male', 'Female'], dtype=object)"
      ]
     },
     "execution_count": 8,
     "metadata": {},
     "output_type": "execute_result"
    }
   ],
   "source": [
    "df['gender'].unique()"
   ]
  },
  {
   "cell_type": "markdown",
   "id": "8885a34e-f875-4d2d-a9cd-62789ddb2cd5",
   "metadata": {},
   "source": [
    "*There are not outliers in gender column*"
   ]
  },
  {
   "cell_type": "markdown",
   "id": "82c7a0a4-f4f4-4d6e-83f7-bf102a5d290e",
   "metadata": {},
   "source": [
    "For Continous Data"
   ]
  },
  {
   "cell_type": "code",
   "execution_count": 9,
   "id": "db83523e-baf7-4970-b339-8a8f1ce6666d",
   "metadata": {},
   "outputs": [
    {
     "data": {
      "image/png": "[encoded data removed]",
      "text/plain": [
       "<Figure size 800x600 with 4 Axes>"
      ]
     },
     "metadata": {},
     "output_type": "display_data"
    }
   ],
   "source": [
    "col = {'id','age','income','score'}\n",
    "color = {'pink','green','violet','skyblue'}\n",
    "fig, axes = plt.subplots(2,2,figsize=(8,6))\n",
    "for i, ax,c in zip(col, axes.flatten(), color):\n",
    "    sns.boxplot(data=df, y=i, ax=ax, color=c)\n",
    "    ax.set_title(i)\n",
    "\n",
    "plt.tight_layout()\n",
    "plt.show()"
   ]
  },
  {
   "cell_type": "markdown",
   "id": "585fba95-7902-4885-a80f-9b773c569dc4",
   "metadata": {},
   "source": [
    "*Income plot suggests some extreme values outside quantile range.*"
   ]
  },
  {
   "cell_type": "code",
   "execution_count": 10,
   "id": "46c11e1a-8aed-43e0-95f0-c590debd3d85",
   "metadata": {},
   "outputs": [
    {
     "data": {
      "text/html": [
       "<div>\n",
       "<style scoped>\n",
       "    .dataframe tbody tr th:only-of-type {\n",
       "        vertical-align: middle;\n",
       "    }\n",
       "\n",
       "    .dataframe tbody tr th {\n",
       "        vertical-align: top;\n",
       "    }\n",
       "\n",
       "    .dataframe thead th {\n",
       "        text-align: right;\n",
       "    }\n",
       "</style>\n",
       "<table border=\"1\" class=\"dataframe\">\n",
       "  <thead>\n",
       "    <tr style=\"text-align: right;\">\n",
       "      <th></th>\n",
       "      <th>id</th>\n",
       "      <th>gender</th>\n",
       "      <th>age</th>\n",
       "      <th>income</th>\n",
       "      <th>score</th>\n",
       "    </tr>\n",
       "  </thead>\n",
       "  <tbody>\n",
       "    <tr>\n",
       "      <th>198</th>\n",
       "      <td>199</td>\n",
       "      <td>Male</td>\n",
       "      <td>32</td>\n",
       "      <td>137</td>\n",
       "      <td>18</td>\n",
       "    </tr>\n",
       "    <tr>\n",
       "      <th>199</th>\n",
       "      <td>200</td>\n",
       "      <td>Male</td>\n",
       "      <td>30</td>\n",
       "      <td>137</td>\n",
       "      <td>83</td>\n",
       "    </tr>\n",
       "  </tbody>\n",
       "</table>\n",
       "</div>"
      ],
      "text/plain": [
       "      id gender  age  income  score\n",
       "198  199   Male   32     137     18\n",
       "199  200   Male   30     137     83"
      ]
     },
     "execution_count": 10,
     "metadata": {},
     "output_type": "execute_result"
    }
   ],
   "source": [
    "max_index = df['income'].idxmax()\n",
    "df.loc[max_index:]"
   ]
  },
  {
   "cell_type": "markdown",
   "id": "bdbfd2ce-c091-433b-aa52-77e3b122d9fa",
   "metadata": {},
   "source": [
    "*These values of income are possible. This columns are retained*"
   ]
  },
  {
   "cell_type": "markdown",
   "id": "e071deec-0a2b-44ff-8748-6fd9bc010c27",
   "metadata": {},
   "source": [
    "**Label Encoding**"
   ]
  },
  {
   "cell_type": "code",
   "execution_count": 11,
   "id": "f5701c85-bc97-4410-9d94-d392d9685121",
   "metadata": {},
   "outputs": [
    {
     "data": {
      "text/html": [
       "<div>\n",
       "<style scoped>\n",
       "    .dataframe tbody tr th:only-of-type {\n",
       "        vertical-align: middle;\n",
       "    }\n",
       "\n",
       "    .dataframe tbody tr th {\n",
       "        vertical-align: top;\n",
       "    }\n",
       "\n",
       "    .dataframe thead th {\n",
       "        text-align: right;\n",
       "    }\n",
       "</style>\n",
       "<table border=\"1\" class=\"dataframe\">\n",
       "  <thead>\n",
       "    <tr style=\"text-align: right;\">\n",
       "      <th></th>\n",
       "      <th>id</th>\n",
       "      <th>gender</th>\n",
       "      <th>age</th>\n",
       "      <th>income</th>\n",
       "      <th>score</th>\n",
       "    </tr>\n",
       "  </thead>\n",
       "  <tbody>\n",
       "    <tr>\n",
       "      <th>0</th>\n",
       "      <td>1</td>\n",
       "      <td>1</td>\n",
       "      <td>19</td>\n",
       "      <td>15</td>\n",
       "      <td>39</td>\n",
       "    </tr>\n",
       "    <tr>\n",
       "      <th>1</th>\n",
       "      <td>2</td>\n",
       "      <td>1</td>\n",
       "      <td>21</td>\n",
       "      <td>15</td>\n",
       "      <td>81</td>\n",
       "    </tr>\n",
       "    <tr>\n",
       "      <th>2</th>\n",
       "      <td>3</td>\n",
       "      <td>0</td>\n",
       "      <td>20</td>\n",
       "      <td>16</td>\n",
       "      <td>6</td>\n",
       "    </tr>\n",
       "    <tr>\n",
       "      <th>3</th>\n",
       "      <td>4</td>\n",
       "      <td>0</td>\n",
       "      <td>23</td>\n",
       "      <td>16</td>\n",
       "      <td>77</td>\n",
       "    </tr>\n",
       "    <tr>\n",
       "      <th>4</th>\n",
       "      <td>5</td>\n",
       "      <td>0</td>\n",
       "      <td>31</td>\n",
       "      <td>17</td>\n",
       "      <td>40</td>\n",
       "    </tr>\n",
       "  </tbody>\n",
       "</table>\n",
       "</div>"
      ],
      "text/plain": [
       "   id  gender  age  income  score\n",
       "0   1       1   19      15     39\n",
       "1   2       1   21      15     81\n",
       "2   3       0   20      16      6\n",
       "3   4       0   23      16     77\n",
       "4   5       0   31      17     40"
      ]
     },
     "execution_count": 11,
     "metadata": {},
     "output_type": "execute_result"
    }
   ],
   "source": [
    "# mapping male with 1 and female with 0\n",
    "from sklearn.preprocessing import LabelEncoder\n",
    "encode = LabelEncoder()\n",
    "df['gender'] = encode.fit_transform(df['gender'])\n",
    "df.head()"
   ]
  },
  {
   "cell_type": "markdown",
   "id": "a841239e-63ec-4cc6-b4e7-f933cfa628e2",
   "metadata": {},
   "source": [
    "Brief summary of cleaned data "
   ]
  },
  {
   "cell_type": "code",
   "execution_count": 12,
   "id": "48939645-3294-49fb-8664-508b6cbe8169",
   "metadata": {},
   "outputs": [
    {
     "name": "stdout",
     "output_type": "stream",
     "text": [
      "<class 'pandas.core.frame.DataFrame'>\n",
      "RangeIndex: 200 entries, 0 to 199\n",
      "Data columns (total 5 columns):\n",
      " #   Column  Non-Null Count  Dtype\n",
      "---  ------  --------------  -----\n",
      " 0   id      200 non-null    int64\n",
      " 1   gender  200 non-null    int64\n",
      " 2   age     200 non-null    int64\n",
      " 3   income  200 non-null    int64\n",
      " 4   score   200 non-null    int64\n",
      "dtypes: int64(5)\n",
      "memory usage: 7.9 KB\n"
     ]
    }
   ],
   "source": [
    "df.info()"
   ]
  },
  {
   "cell_type": "markdown",
   "id": "13daebc2-619b-42a2-907d-688e123927a5",
   "metadata": {},
   "source": [
    "#### Exporting clean data set"
   ]
  },
  {
   "cell_type": "code",
   "execution_count": 13,
   "id": "5c71bbec-e2dd-48b0-98f8-f7ce39518a56",
   "metadata": {},
   "outputs": [],
   "source": [
    "df.to_csv(\"cleaned_mall_customers.csv\", index=False)"
   ]
  },
  {
   "cell_type": "code",
   "execution_count": null,
   "id": "b36228c3-4947-4d0e-93fd-0bf5e1aeae4d",
   "metadata": {},
   "outputs": [],
   "source": []
  }
 ],
 "metadata": {
  "kernelspec": {
   "display_name": "Python 3 (ipykernel)",
   "language": "python",
   "name": "python3"
  },
  "language_info": {
   "codemirror_mode": {
    "name": "ipython",
    "version": 3
   },
   "file_extension": ".py",
   "mimetype": "text/x-python",
   "name": "python",
   "nbconvert_exporter": "python",
   "pygments_lexer": "ipython3",
   "version": "3.12.4"
  }
 },
 "nbformat": 4,
 "nbformat_minor": 5
}
